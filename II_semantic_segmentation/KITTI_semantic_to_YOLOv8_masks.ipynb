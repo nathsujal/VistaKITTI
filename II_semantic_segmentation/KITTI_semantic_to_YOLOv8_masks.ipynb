{
  "nbformat": 4,
  "nbformat_minor": 0,
  "metadata": {
    "colab": {
      "provenance": []
    },
    "kernelspec": {
      "name": "python3",
      "display_name": "Python 3"
    },
    "language_info": {
      "name": "python"
    }
  },
  "cells": [
    {
      "cell_type": "code",
      "source": [
        "from google.colab import drive\n",
        "drive.mount('/content/drive')"
      ],
      "metadata": {
        "colab": {
          "base_uri": "https://localhost:8080/"
        },
        "id": "90sA5IrMKuBP",
        "outputId": "adb1b1a9-3a51-43fc-86e7-99924aca894d"
      },
      "execution_count": 7,
      "outputs": [
        {
          "output_type": "stream",
          "name": "stdout",
          "text": [
            "Mounted at /content/drive\n"
          ]
        }
      ]
    },
    {
      "cell_type": "code",
      "execution_count": 9,
      "metadata": {
        "id": "nyfMOfI4JY8i"
      },
      "outputs": [],
      "source": [
        "import os\n",
        "import cv2\n",
        "import numpy as np\n",
        "from PIL import Image\n",
        "from collections import namedtuple\n",
        "from tqdm import tqdm\n",
        "import json\n",
        "import shutil\n",
        "from pathlib import Path\n",
        "import yaml\n",
        "import random"
      ]
    },
    {
      "cell_type": "markdown",
      "source": [
        "#### Define KITTI Label Structure"
      ],
      "metadata": {
        "id": "GYzdA8zdJmuO"
      }
    },
    {
      "cell_type": "code",
      "source": [
        "# KITTI Label definition (from KITTI documentation)\n",
        "Label = namedtuple('Label', [\n",
        "    'name', 'id', 'trainId', 'category', 'categoryId',\n",
        "    'hasInstances', 'ignoreInEval', 'color'\n",
        "])"
      ],
      "metadata": {
        "id": "TFNG-_kZJlo0"
      },
      "execution_count": 2,
      "outputs": []
    },
    {
      "cell_type": "markdown",
      "source": [
        "#### Define KITTI Labels List"
      ],
      "metadata": {
        "id": "LhVtTNXHJ0NJ"
      }
    },
    {
      "cell_type": "code",
      "source": [
        "# KITTI labels (from KITTI documentation)\n",
        "labels = [\n",
        "    Label('unlabeled',            0,   255, 'void',        0, False, True,  (0,   0,   0)),\n",
        "    Label('ego vehicle',          1,   255, 'void',        0, False, True,  (0,   0,   0)),\n",
        "    Label('rectification border', 2,   255, 'void',        0, False, True,  (0,   0,   0)),\n",
        "    Label('out of roi',           3,   255, 'void',        0, False, True,  (0,   0,   0)),\n",
        "    Label('static',               4,   255, 'void',        0, False, True,  (0,   0,   0)),\n",
        "    Label('dynamic',              5,   255, 'void',        0, False, True,  (111, 74,  0)),\n",
        "    Label('ground',               6,   255, 'void',        0, False, True,  (81,  0,   81)),\n",
        "    Label('road',                 7,   0,   'flat',        1, False, False, (128, 64,  128)),\n",
        "    Label('sidewalk',             8,   1,   'flat',        1, False, False, (244, 35,  232)),\n",
        "    Label('parking',              9,   255, 'flat',        1, False, True,  (250, 170, 160)),\n",
        "    Label('rail track',           10,  255, 'flat',        1, False, True,  (230, 150, 140)),\n",
        "    Label('building',             11,  2,   'construction', 2, False, False, (70,  70,  70)),\n",
        "    Label('wall',                 12,  3,   'construction', 2, False, False, (102, 102, 156)),\n",
        "    Label('fence',                13,  4,   'construction', 2, False, False, (190, 153, 153)),\n",
        "    Label('guard rail',           14,  255, 'construction', 2, False, True,  (180, 165, 180)),\n",
        "    Label('bridge',               15,  255, 'construction', 2, False, True,  (150, 100, 100)),\n",
        "    Label('tunnel',               16,  255, 'construction', 2, False, True,  (150, 120, 90)),\n",
        "    Label('pole',                 17,  5,   'object',       3, False, False, (153, 153, 153)),\n",
        "    Label('polegroup',            18,  255, 'object',       3, False, True,  (153, 153, 153)),\n",
        "    Label('traffic light',        19,  6,   'object',       3, False, False, (250, 170, 30)),\n",
        "    Label('traffic sign',         20,  7,   'object',       3, False, False, (220, 220, 0)),\n",
        "    Label('vegetation',           21,  8,   'nature',       4, False, False, (107, 142, 35)),\n",
        "    Label('terrain',              22,  9,   'nature',       4, False, False, (152, 251, 152)),\n",
        "    Label('sky',                  23,  10,  'sky',          5, False, False, (70,  130, 180)),\n",
        "    Label('person',               24,  11,  'human',        6, True,  False, (220, 20,  60)),\n",
        "    Label('rider',                25,  12,  'human',        6, True,  False, (255, 0,   0)),\n",
        "    Label('car',                  26,  13,  'vehicle',      7, True,  False, (0,   0,   142)),\n",
        "    Label('truck',                27,  14,  'vehicle',      7, True,  False, (0,   0,   70)),\n",
        "    Label('bus',                  28,  15,  'vehicle',      7, True,  False, (0,   60,  100)),\n",
        "    Label('caravan',              29,  255, 'vehicle',      7, True,  True,  (0,   0,   90)),\n",
        "    Label('trailer',              30,  255, 'vehicle',      7, True,  True,  (0,   0,   110)),\n",
        "    Label('train',                31,  16,  'vehicle',      7, True,  False, (0,   80,  100)),\n",
        "    Label('motorcycle',           32,  17,  'vehicle',      7, True,  False, (0,   0,   230)),\n",
        "    Label('bicycle',              33,  18,  'vehicle',      7, True,  False, (119, 11,  32)),\n",
        "]"
      ],
      "metadata": {
        "id": "Q2g-ywyOJvqw"
      },
      "execution_count": 3,
      "outputs": []
    },
    {
      "cell_type": "markdown",
      "source": [
        "#### Class Mapping Initialization"
      ],
      "metadata": {
        "id": "rkWfWKWuKR6K"
      }
    },
    {
      "cell_type": "code",
      "source": [
        "id_to_yolo = {}\n",
        "yolo_to_name = {}\n",
        "\n",
        "# Add background as class 0\n",
        "void_ids = [label.id for label in labels if label.category == 'void']\n",
        "for vid in void_ids:\n",
        "    id_to_yolo[vid] = 0\n",
        "yolo_to_name[0] = 'unknown'\n",
        "\n",
        "# Add valid classes\n",
        "yolo_id = 1\n",
        "for label in labels:\n",
        "    if not label.ignoreInEval and label.trainId != 255 and label.category != 'void':\n",
        "        id_to_yolo[label.id] = yolo_id\n",
        "        yolo_to_name[yolo_id] = label.name\n",
        "        yolo_id += 1\n",
        "\n",
        "print(yolo_to_name)"
      ],
      "metadata": {
        "colab": {
          "base_uri": "https://localhost:8080/"
        },
        "id": "va7mJYnkJ5AF",
        "outputId": "513e0a97-9f8a-4d66-a50b-9a6aba326ea4"
      },
      "execution_count": 4,
      "outputs": [
        {
          "output_type": "stream",
          "name": "stdout",
          "text": [
            "{0: 'unknown', 1: 'road', 2: 'sidewalk', 3: 'building', 4: 'wall', 5: 'fence', 6: 'pole', 7: 'traffic light', 8: 'traffic sign', 9: 'vegetation', 10: 'terrain', 11: 'sky', 12: 'person', 13: 'rider', 14: 'car', 15: 'truck', 16: 'bus', 17: 'train', 18: 'motorcycle', 19: 'bicycle'}\n"
          ]
        }
      ]
    },
    {
      "cell_type": "markdown",
      "source": [
        "#### Utility - Contour Extrction and Polygon Conversion"
      ],
      "metadata": {
        "id": "VTHcqCa9KX8P"
      }
    },
    {
      "cell_type": "code",
      "source": [
        "def get_contours(mask, class_id):\n",
        "    binary = (mask == class_id).astype(np.uint8) * 255\n",
        "    contours, _ = cv2.findContours(binary, cv2.RETR_EXTERNAL, cv2.CHAIN_APPROX_SIMPLE)\n",
        "    return contours\n",
        "\n",
        "def contour_to_polygon(contour, img_h, img_w):\n",
        "    if len(contour) < 3:\n",
        "        return None\n",
        "\n",
        "    polygon = []\n",
        "    for pt in contour:\n",
        "        x, y = pt[0]\n",
        "        polygon.extend([x / img_w, y / img_h])\n",
        "    return polygon if len(polygon) >= 6 else None"
      ],
      "metadata": {
        "id": "628IthLtKUjo"
      },
      "execution_count": 5,
      "outputs": []
    },
    {
      "cell_type": "markdown",
      "source": [
        "#### Process One Semantic Mask"
      ],
      "metadata": {
        "id": "V0XmHwmSKjL6"
      }
    },
    {
      "cell_type": "code",
      "source": [
        "def process_mask(semantic_path, img_w, img_h):\n",
        "    mask = np.array(Image.open(semantic_path))\n",
        "    annotations = []\n",
        "    for class_id in np.unique(mask):\n",
        "        if class_id not in id_to_yolo:\n",
        "            continue\n",
        "        yolo_cls = id_to_yolo[class_id]\n",
        "        contours = get_contours(mask, class_id)\n",
        "        for contour in contours:\n",
        "            polygon = contour_to_polygon(contour, img_h, img_w)\n",
        "            if polygon:\n",
        "                line = f\"{yolo_cls} \" + \" \".join([f\"{x:.6f}\" for x in polygon])\n",
        "                annotations.append(line)\n",
        "    return annotations"
      ],
      "metadata": {
        "id": "KsLt17V0Kh6M"
      },
      "execution_count": 6,
      "outputs": []
    },
    {
      "cell_type": "markdown",
      "source": [
        "#### Dataset Conversion Loop"
      ],
      "metadata": {
        "id": "TrohqIITKqkL"
      }
    },
    {
      "cell_type": "code",
      "source": [
        "kitti_root = '/content/drive/MyDrive/Colab Notebooks/KITTI Dataset Exploration/data_semantics'\n",
        "yolo_dataset_root = '/content/drive/MyDrive/Colab Notebooks/KITTI Dataset Exploration/yolo_dataset'\n",
        "\n",
        "img_dir = os.path.join(kitti_root, 'image_2')\n",
        "mask_dir = os.path.join(kitti_root, 'semantic')\n",
        "\n",
        "os.makedirs(os.path.join(yolo_dataset_root, 'images'), exist_ok=True)\n",
        "os.makedirs(os.path.join(yolo_dataset_root, 'labels'), exist_ok=True)\n",
        "\n",
        "img_list = [f for f in os.listdir(img_dir) if f.endswith('.png')]\n",
        "\n",
        "for fname in tqdm(img_list):\n",
        "    img_path = os.path.join(img_dir, fname)\n",
        "    mask_path = os.path.join(mask_dir, fname)\n",
        "    if not os.path.exists(mask_path):\n",
        "        print(f\"Missing mask for {fname}\")\n",
        "        continue\n",
        "\n",
        "    img = Image.open(img_path)\n",
        "    img_w, img_h = img.size\n",
        "\n",
        "    out_img_path = os.path.join(yolo_dataset_root, 'images', fname)\n",
        "    out_lbl_path = os.path.join(yolo_dataset_root, 'labels', fname.replace('.png', '.txt'))\n",
        "\n",
        "    img.save(out_img_path)\n",
        "    annotations = process_mask(mask_path, img_w, img_h)\n",
        "\n",
        "    with open(out_lbl_path, 'w') as f:\n",
        "        f.write('\\n'.join(annotations))"
      ],
      "metadata": {
        "colab": {
          "base_uri": "https://localhost:8080/"
        },
        "id": "xYgGpIGfKnzL",
        "outputId": "b7514f0b-8651-4761-8e5b-e59d4476d0d2"
      },
      "execution_count": 11,
      "outputs": [
        {
          "output_type": "stream",
          "name": "stderr",
          "text": [
            "100%|██████████| 200/200 [01:03<00:00,  3.15it/s]\n"
          ]
        }
      ]
    },
    {
      "cell_type": "markdown",
      "source": [
        "#### Split dataset into train/val/test and organize for YOLOv8 training"
      ],
      "metadata": {
        "id": "ghBHXOo6L8HH"
      }
    },
    {
      "cell_type": "code",
      "source": [
        "DATASET_PATH = \"/content/drive/MyDrive/Colab Notebooks/KITTI Dataset Exploration/YOLO_TRAIN_DATASET\"\n",
        "\n",
        "# Create directory structure\n",
        "dataset_root = Path(DATASET_PATH)\n",
        "for split in ['train', 'val', 'test']:\n",
        "    (dataset_root / split / 'images').mkdir(parents=True, exist_ok=True)\n",
        "    (dataset_root / split / 'labels').mkdir(parents=True, exist_ok=True)\n",
        "\n",
        "# Get all image files\n",
        "images_dir = Path(yolo_dataset_root) / 'images'\n",
        "labels_dir = Path(yolo_dataset_root) / 'labels'\n",
        "\n",
        "image_files = list(images_dir.glob('*.png'))\n",
        "\n",
        "# Filter images that have corresponding labels\n",
        "valid_pairs = []\n",
        "for img_file in image_files:\n",
        "    label_file = labels_dir / f\"{img_file.stem}.txt\"\n",
        "    if label_file.exists():\n",
        "        valid_pairs.append((img_file, label_file))\n",
        "\n",
        "print(f\"Found {len(valid_pairs)} valid image-label pairs\")\n",
        "\n",
        "# Shuffle and split\n",
        "random.shuffle(valid_pairs)\n",
        "\n",
        "# Split ratios: 70% train, 20% val, 10% test\n",
        "n_total = len(valid_pairs)\n",
        "n_train = int(0.7 * n_total)\n",
        "n_val = int(0.2 * n_total)\n",
        "\n",
        "splits = {\n",
        "    'train': valid_pairs[:n_train],\n",
        "    'val': valid_pairs[n_train:n_train + n_val],\n",
        "    'test': valid_pairs[n_train + n_val:]\n",
        "}\n",
        "\n",
        "# Copy files to respective directories\n",
        "for split_name, pairs in splits.items():\n",
        "    print(f\"Copying {len(pairs)} files to {split_name} split...\")\n",
        "\n",
        "    for img_file, label_file in pairs:\n",
        "        # Copy image\n",
        "        dst_img = dataset_root / split_name / 'images' / img_file.name\n",
        "        shutil.copy2(img_file, dst_img)\n",
        "\n",
        "        # Copy label\n",
        "        dst_label = dataset_root / split_name / 'labels' / label_file.name\n",
        "        shutil.copy2(label_file, dst_label)\n",
        "\n",
        "print(f\"Dataset structure created at: {dataset_root}\")\n",
        "print(f\"Train: {len(splits['train'])}, Val: {len(splits['val'])}, Test: {len(splits['test'])}\")"
      ],
      "metadata": {
        "colab": {
          "base_uri": "https://localhost:8080/"
        },
        "id": "ea-o_McqMBXH",
        "outputId": "6c43406c-edb7-40f0-c745-171f22920540"
      },
      "execution_count": null,
      "outputs": [
        {
          "output_type": "stream",
          "name": "stdout",
          "text": [
            "Found 200 valid image-label pairs\n",
            "Copying 140 files to train split...\n"
          ]
        }
      ]
    }
  ]
}